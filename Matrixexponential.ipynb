{
 "cells": [
  {
   "cell_type": "markdown",
   "metadata": {},
   "source": [
    "## Die komplexe Matrixexponentialfunktion $e^A$, ihre numerische Auswertung und ingenieurwissenschaftliche Anwendung\n",
    "\n",
    "Zuerst importieren wir das Paket Sympy und verändern Einstellungen für die bessere Darstellung."
   ]
  },
  {
   "cell_type": "code",
   "execution_count": null,
   "metadata": {},
   "outputs": [],
   "source": [
    "import warnings\n",
    "warnings.filterwarnings(\"ignore\", category=UserWarning)\n",
    "from sympy import * # das Computeralgebrasystem SymPy wird importiert\n",
    "init_printing() # schönere Darstellung"
   ]
  },
  {
   "cell_type": "markdown",
   "metadata": {},
   "source": [
    "Wir betrachten ein System von zwei Gewichten und drei Federn.\n",
    "\n",
    "![](Feder_2.svg)"
   ]
  },
  {
   "cell_type": "markdown",
   "metadata": {},
   "source": [
    "Wir können dieses System durch folgende Differentialgleichung beschreiben:\n",
    "\n",
    "\\begin{equation*}\n",
    "\\ddot Y\n",
    "=\n",
    "\\begin{pmatrix}\n",
    "-2 \\omega & \\omega \\\\\n",
    "\\omega & -2 \\omega\n",
    "\\end{pmatrix}\n",
    "Y\n",
    "\\end{equation*}\n",
    "\n",
    "Wir führen wieder die Variablen $p_1 := \\dot y_1$ und $p_2 = \\dot y_2$ ein.\n",
    "Dann haben wir\n",
    "\n",
    "\\begin{equation*}\n",
    "\\dot P =\n",
    "\\begin{pmatrix}\n",
    "-2 \\omega & \\omega \\\\\n",
    "\\omega & -2 \\omega\n",
    "\\end{pmatrix}\n",
    "Y\n",
    "\\text{ und }\n",
    "\\dot Y =\n",
    "\\begin{pmatrix}\n",
    "1 & 0 \\\\\n",
    "0 & 1\n",
    "\\end{pmatrix}\n",
    "P.\n",
    "\\end{equation*}\n",
    "\n",
    "Wir können unser Problem somit als\n",
    "\n",
    "\\begin{equation*}\n",
    "\\begin{pmatrix}\n",
    "\\dot p_1 \\\\ \\dot p_2 \\\\ \\dot y_1 \\\\ \\dot y_2\n",
    "\\end{pmatrix}\n",
    "=\n",
    "\\underbrace{\n",
    "\\begin{pmatrix}\n",
    "-2 \\omega & \\omega & 0 & 0 \\\\\n",
    "\\omega & -2 \\omega & 0 & 0 \\\\\n",
    "0 & 0 & 1 & 0 \\\\\n",
    "0 & 0 & 0 & 1\n",
    "\\end{pmatrix}\n",
    "}_{:=A}\n",
    "\\begin{pmatrix}\n",
    "y_1 \\\\ y_2 \\\\ p_1 \\\\ p_2\n",
    "\\end{pmatrix}\n",
    "\\end{equation*}\n",
    "formulieren.\n"
   ]
  },
  {
   "cell_type": "code",
   "execution_count": null,
   "metadata": {},
   "outputs": [],
   "source": [
    "A = Matrix([\n",
    "    [0, 0, -2, 1],\n",
    "    [0, 0, 1, -2],\n",
    "    [1, 0, 0, 0],\n",
    "    [0, 1, 0, 0]\n",
    "])\n",
    "\n",
    "A"
   ]
  },
  {
   "cell_type": "markdown",
   "metadata": {},
   "source": [
    "Wir bestimmen die Eigenwerte und Eigenvektoren von $A$:"
   ]
  },
  {
   "cell_type": "code",
   "execution_count": null,
   "metadata": {},
   "outputs": [],
   "source": [
    "A.eigenvects()"
   ]
  },
  {
   "cell_type": "markdown",
   "metadata": {},
   "source": [
    "Wir diagonalisieren $A$. Als Ergebnis wird die Matrix der Eigenvektoren, sowie die Diagonalmatrix ausgegeben."
   ]
  },
  {
   "cell_type": "code",
   "execution_count": null,
   "metadata": {},
   "outputs": [],
   "source": [
    "A.diagonalize()"
   ]
  },
  {
   "cell_type": "markdown",
   "metadata": {},
   "source": [
    "Jetzt berechnen wir $\\exp(tA)$. Da dies eine symbolische Rechnung ist, müssen wir das Symbol $t$ definieren."
   ]
  },
  {
   "cell_type": "code",
   "execution_count": null,
   "metadata": {},
   "outputs": [],
   "source": [
    "t = Symbol('t')\n",
    "\n",
    "exp_tA = exp(t*A)\n",
    "\n",
    "exp_tA"
   ]
  },
  {
   "cell_type": "markdown",
   "metadata": {},
   "source": [
    "Mit dem Befehl ``Simplify`` wird das Ergebnis übersichtlicher:"
   ]
  },
  {
   "cell_type": "code",
   "execution_count": null,
   "metadata": {},
   "outputs": [],
   "source": [
    "exp_tA = simplify(exp_tA)\n",
    "\n",
    "exp_tA"
   ]
  },
  {
   "cell_type": "markdown",
   "metadata": {},
   "source": [
    "Wir sehen aber, dass die Formel\n",
    "\n",
    "\\begin{equation*}\n",
    "i \\exp(-ix) - i \\exp(ix) = 2 \\sin(x)\n",
    "\\end{equation*}\n",
    "\n",
    "noch nicht angewendet wurde.\n",
    "Dies können wir auch noch durch die Funktion ``rewrite`` erzwingen:"
   ]
  },
  {
   "cell_type": "code",
   "execution_count": null,
   "metadata": {},
   "outputs": [],
   "source": [
    "exp_tA = simplify(exp_tA.rewrite(sin))\n",
    "\n",
    "exp_tA"
   ]
  },
  {
   "cell_type": "markdown",
   "metadata": {},
   "source": [
    "Da $Y = (y_1, y_2, p_1, p_2)^\\top$, und wir uns für den Fall interessieren, dass $\\dot y_1(0) = 0$ und $\\dot y_2(0) = 0$, is für uns die obere $2\\times 2$-Matrix von $A$,\n",
    "\n",
    "\\begin{equation*}\n",
    "\\begin{pmatrix}\n",
    "a_{11} & a_{12} \\\\\n",
    "a_{21} & a_{22}\n",
    "\\end{pmatrix}\n",
    "\\end{equation*}\n",
    "\n",
    "relevant."
   ]
  },
  {
   "cell_type": "code",
   "execution_count": null,
   "metadata": {},
   "outputs": [],
   "source": [
    "exp_tA[[0, 1], [0, 1]]"
   ]
  },
  {
   "cell_type": "markdown",
   "metadata": {},
   "source": [
    "Unser Ergebnis ist somit:"
   ]
  },
  {
   "cell_type": "code",
   "execution_count": null,
   "metadata": {},
   "outputs": [],
   "source": [
    "y_1 = Symbol('y_1')\n",
    "y_2 = Symbol('y_2')\n",
    "\n",
    "exp_tA[[0, 1], [0, 1]] * Matrix([y_1, y_2])"
   ]
  },
  {
   "cell_type": "markdown",
   "metadata": {},
   "source": [
    "Jetzt betrachten wir den Fall, dass das erste Gewicht die Hälfte des Gewichtes vom zweiten Gewicht hat, $m_1 = \\frac{1}{2} m_2$.\n",
    "Wir können unser Problem somit als\n",
    "\n",
    "\\begin{equation*}\n",
    "\\begin{pmatrix}\n",
    "\\dot p_1 \\\\ \\dot p_2 \\\\ \\dot y_1 \\\\ \\dot y_2\n",
    "\\end{pmatrix}\n",
    "=\n",
    "\\underbrace{\n",
    "\\begin{pmatrix}\n",
    "- \\omega & \\frac{1}{2} \\omega & 0 & 0 \\\\\n",
    "\\omega & -2 \\omega & 0 & 0 \\\\\n",
    "0 & 0 & 1 & 0 \\\\\n",
    "0 & 0 & 0 & 1\n",
    "\\end{pmatrix}\n",
    "}_{:=A}\n",
    "\\begin{pmatrix}\n",
    "y_1 \\\\ y_2 \\\\ p_1 \\\\ p_2\n",
    "\\end{pmatrix}\n",
    "\\end{equation*}\n",
    "\n",
    "formulieren."
   ]
  },
  {
   "cell_type": "code",
   "execution_count": null,
   "metadata": {},
   "outputs": [],
   "source": [
    "A = Matrix([\n",
    "    [0, 0, -4, 2],\n",
    "    [0, 0, 1, -2],\n",
    "    [1, 0, 0, 0],\n",
    "    [0, 1, 0, 0]\n",
    "])\n",
    "\n",
    "A"
   ]
  },
  {
   "cell_type": "code",
   "execution_count": null,
   "metadata": {},
   "outputs": [],
   "source": [
    "exp_tA = exp(t*A)\n",
    "exp_tA"
   ]
  },
  {
   "cell_type": "markdown",
   "metadata": {},
   "source": [
    "## Numerische Berechnung des Matrixexponentials\n",
    "\n",
    "Die symbolischen Ergebnisse werden hier deutlich zu kompliziert. Wir können das Matrixexponential aber auch numerisch berechnen."
   ]
  },
  {
   "cell_type": "code",
   "execution_count": null,
   "metadata": {},
   "outputs": [],
   "source": [
    "from scipy.linalg import expm\n",
    "import numpy as np \n",
    "\n",
    "A = np.array([\n",
    "    [0, 0, -1, 0.5],\n",
    "    [0, 0, 1, -2],\n",
    "    [1, 0, 0, 0],\n",
    "    [0, 1, 0, 0]\n",
    "])\n",
    "\n",
    "A"
   ]
  },
  {
   "cell_type": "code",
   "execution_count": null,
   "metadata": {},
   "outputs": [],
   "source": [
    "expm(A)"
   ]
  },
  {
   "cell_type": "markdown",
   "metadata": {},
   "source": [
    "## Kompartmentanalyse\n",
    "\n",
    "![](Tanks_1.svg)\n",
    "\n",
    "Wir können dieses Problem als\n",
    "\n",
    "\\begin{equation*}\n",
    "\\dot Y =\n",
    "\t\\begin{pmatrix}\n",
    "\t\t-\\frac{1}{2} & 0 & 0 \\\\\n",
    "\t\t\\frac{1}{2} & -\\frac{1}{4} & 0 \\\\\n",
    "\t\t0 & \\frac{1}{4} & - \\frac{1}{6}\n",
    "\t\\end{pmatrix}\n",
    "\tY\n",
    "\\end{equation*}\n",
    "\n",
    "darstellen."
   ]
  },
  {
   "cell_type": "code",
   "execution_count": null,
   "metadata": {},
   "outputs": [],
   "source": [
    "B = Matrix([\n",
    "    [-Rational(1, 2), 0, 0],\n",
    "    [Rational(1, 2), -Rational(1, 4), 0],\n",
    "    [0, Rational(1, 4), -Rational(1, 6)]\n",
    "])\n",
    "\n",
    "B"
   ]
  },
  {
   "cell_type": "code",
   "execution_count": null,
   "metadata": {},
   "outputs": [],
   "source": [
    "B.diagonalize()"
   ]
  },
  {
   "cell_type": "code",
   "execution_count": null,
   "metadata": {},
   "outputs": [],
   "source": [
    "simplify(exp(t * B))"
   ]
  },
  {
   "cell_type": "markdown",
   "metadata": {},
   "source": [
    "Unsere Lösung ist schließlich:"
   ]
  },
  {
   "cell_type": "code",
   "execution_count": null,
   "metadata": {},
   "outputs": [],
   "source": [
    "simplify(exp(t * B)) * Matrix([2, 4, 6])"
   ]
  },
  {
   "cell_type": "markdown",
   "metadata": {},
   "source": [
    "![](Kaskade_Ergebnis.svg)"
   ]
  },
  {
   "cell_type": "markdown",
   "metadata": {},
   "source": [
    "## Berechnung der Jordan-Normalform in Scipy"
   ]
  },
  {
   "cell_type": "code",
   "execution_count": null,
   "metadata": {},
   "outputs": [],
   "source": [
    "C = Matrix([[1, 0, 1], [0, 1, 1], [0, 0, 1]])\n",
    "\n",
    "C.jordan_form()"
   ]
  },
  {
   "cell_type": "code",
   "execution_count": null,
   "metadata": {},
   "outputs": [],
   "source": [
    "M = Matrix([\n",
    "    [5, 4, 2, 1],\n",
    "    [0, 1, -1, -1],\n",
    "    [-1, -1, 3, 0],\n",
    "    [1, 1, -1, 2]\n",
    "])\n",
    "\n",
    "M"
   ]
  },
  {
   "cell_type": "code",
   "execution_count": null,
   "metadata": {},
   "outputs": [],
   "source": [
    "M.jordan_form()"
   ]
  }
 ],
 "metadata": {
  "kernelspec": {
   "display_name": "Python 3 (ipykernel)",
   "language": "python",
   "name": "python3"
  },
  "language_info": {
   "codemirror_mode": {
    "name": "ipython",
    "version": 3
   },
   "file_extension": ".py",
   "mimetype": "text/x-python",
   "name": "python",
   "nbconvert_exporter": "python",
   "pygments_lexer": "ipython3",
   "version": "3.9.7"
  },
  "vscode": {
   "interpreter": {
    "hash": "92f23b4ac9a1ac0aabac2a5fe090cf874f268b01de51ad4092840717b54c19ba"
   }
  }
 },
 "nbformat": 4,
 "nbformat_minor": 2
}
